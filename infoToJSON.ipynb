{
 "cells": [
  {
   "cell_type": "code",
   "execution_count": 15,
   "metadata": {},
   "outputs": [],
   "source": [
    "import json, re"
   ]
  },
  {
   "cell_type": "code",
   "execution_count": null,
   "metadata": {
    "collapsed": true
   },
   "outputs": [],
   "source": []
  },
  {
   "cell_type": "code",
   "execution_count": 16,
   "metadata": {},
   "outputs": [],
   "source": [
    "def phone_format(phone_number):\n",
    "    clean_phone_number = re.sub('[^0-9]+', '', phone_number)\n",
    "    formatted_phone_number = re.sub(\"(\\d)(?=(\\d{3})+(?!\\d))\", r\"\\1-\", \"%d\" % int(clean_phone_number[:-1])) + clean_phone_number[-1]\n",
    "    return formatted_phone_number"
   ]
  },
  {
   "cell_type": "code",
   "execution_count": 47,
   "metadata": {},
   "outputs": [
    {
     "name": "stdout",
     "output_type": "stream",
     "text": [
      "593832839\n"
     ]
    }
   ],
   "source": [
    "phone_number = '59383283d9'\n",
    "clean_phone_number = re.sub('[^0-9]+', '', phone_number)\n",
    "print (clean_phone_number)\n",
    "# formatted_phone_number = re.sub(\"(\\d)(?=(\\d{3})+(?!\\d))\", r\"\\1-\", \"%d\" % int(clean_phone_number[:-1])) + clean_phone_number[-1]"
   ]
  },
  {
   "cell_type": "code",
   "execution_count": 28,
   "metadata": {},
   "outputs": [
    {
     "data": {
      "text/plain": [
       "10"
      ]
     },
     "execution_count": 28,
     "metadata": {},
     "output_type": "execute_result"
    }
   ],
   "source": [
    "if len(clean_phone_number) ~= 9:\n",
    "    return"
   ]
  },
  {
   "cell_type": "code",
   "execution_count": 143,
   "metadata": {},
   "outputs": [
    {
     "data": {
      "text/plain": [
       "10"
      ]
     },
     "execution_count": 143,
     "metadata": {},
     "output_type": "execute_result"
    }
   ],
   "source": [
    "f = open('data2.in', 'r')\n",
    "line = 'Ria Tillotson, aqua marine, 97671, 196 910 5548\\n'\n",
    "entry = {}\n",
    "items = [x.strip() for x in line.split(',')]\n",
    "names = items.pop(0)\n",
    "names.isalpha()\n",
    "# entry['firstname'], entry['lastname'] = names.split()\n",
    "# # entry['firstname'] = names\n",
    "# # entry['lastname'] = items.pop(0)\n",
    "# # item = items[0]\n",
    "# item = items[1]\n",
    "# nums = re.sub('[^0-9]+', '', item)\n",
    "# entry['zipcode'] = nums\n",
    "len(re.sub('[^0-9]+', '', items[2]))"
   ]
  },
  {
   "cell_type": "code",
   "execution_count": 146,
   "metadata": {},
   "outputs": [
    {
     "name": "stdout",
     "output_type": "stream",
     "text": [
      "{'entris': [{'firstname': 'Annalee', 'lastname': 'Loftis', 'zipcode': '97296', 'phonenumber': '905-329-2054', 'color': 'blue'}, {'firstname': 'James', 'lastname': 'Johnston', 'color': 'gray', 'zipcode': '38410', 'phonenumber': '628-102-3672'}, {'firstname': 'Liptak', 'lastname': 'Quinton', 'phonenumber': '653-889-7235', 'color': 'yellow', 'zipcode': '70703'}, {'firstname': 'Gladis', 'lastname': 'Tubb', 'zipcode': '73149', 'phonenumber': '454-934-6454', 'color': 'pink'}, {'firstname': 'Aura', 'lastname': 'Eilers', 'zipcode': '39358', 'phonenumber': '489-634-9504', 'color': 'pink'}, {'firstname': 'Clary', 'lastname': 'Blair', 'phonenumber': '463-118-2451', 'color': 'red', 'zipcode': '07256'}, {'firstname': 'Hood', 'lastname': 'Robert', 'phonenumber': '54-813-6030', 'color': 'pink', 'zipcode': '47784'}, {'firstname': 'Dhillon', 'lastname': 'Beata', 'phonenumber': '843-661-4252', 'color': 'pink', 'zipcode': '90022'}, {'firstname': 'Leedy', 'lastname': 'Magan', 'phonenumber': '896-391-7308', 'color': 'blue', 'zipcode': '48680'}, {'firstname': 'Shanika', 'lastname': 'Dodd', 'zipcode': '82733', 'phonenumber': '940-761-0886', 'color': 'pink'}, {'firstname': 'Hung', 'lastname': 'Moxley', 'zipcode': '93381', 'phonenumber': '667-132-9000', 'color': 'pink'}, {'firstname': 'Maurita', 'lastname': 'Awong', 'color': 'blue', 'zipcode': '15726', 'phonenumber': '61-937-1243'}, {'firstname': 'Marita', 'lastname': 'Haugland', 'color': 'red', 'zipcode': '21231', 'phonenumber': '34-614-7966'}, {'firstname': 'Swearingen', 'lastname': 'Kristeen', 'phonenumber': '238-440-6451', 'color': 'blue', 'zipcode': '60460'}, {'firstname': 'Saltsman', 'lastname': 'Sabina', 'phonenumber': '577-767-9995', 'color': 'blue', 'zipcode': '81360'}, {'firstname': 'Davis', 'lastname': 'Armand', 'phonenumber': '240-736-4719', 'color': 'yellow', 'zipcode': '64320'}, {'firstname': 'Kerri', 'lastname': 'Chandler', 'zipcode': '32868', 'phonenumber': '818-246-5061', 'color': 'red'}, {'firstname': 'Shela', 'lastname': 'Mona', 'color': 'pink', 'zipcode': '11198', 'phonenumber': '986-283-6066'}, {'firstname': 'Prince', 'lastname': 'Gabler', 'color': 'gray', 'zipcode': '08291', 'phonenumber': '645-200-7094'}, {'firstname': 'Earlene', 'lastname': 'Merryman', 'color': 'blue', 'zipcode': '86258', 'phonenumber': '305-987-8362'}, {'firstname': 'Theodora', 'lastname': 'Whipkey', 'color': 'red', 'zipcode': '54450', 'phonenumber': '808-633-1734'}, {'firstname': 'Butterfield', 'lastname': 'Kelsi', 'phonenumber': '967-196-4953', 'color': 'yellow', 'zipcode': '05644'}, {'firstname': 'Mccaster', 'lastname': 'Fatimah', 'phonenumber': '854-345-7518', 'color': 'gray', 'zipcode': '57693'}, {'firstname': 'Reinaldo', 'lastname': 'Vandermeer', 'zipcode': '76589', 'phonenumber': '751-665-5618', 'color': 'gray'}, {'firstname': 'Theo', 'lastname': 'Parrish', 'color': 'green', 'zipcode': '60128', 'phonenumber': '423-334-3136'}, {'firstname': 'Mazie', 'lastname': 'Chavis', 'zipcode': '48843', 'phonenumber': '218-097-2208', 'color': 'gray'}, {'firstname': 'Demming', 'lastname': 'Kent', 'phonenumber': '622-720-0550', 'color': 'red', 'zipcode': '37820'}, {'firstname': 'Ferro', 'lastname': 'Myrtice', 'phonenumber': '568-821-3874', 'color': 'green', 'zipcode': '95836'}, {'firstname': 'Cadena', 'lastname': 'Clarinda', 'phonenumber': '666-621-7485', 'color': 'red', 'zipcode': '09517'}, {'firstname': 'Bernie', 'lastname': 'Mallette', 'color': 'pink', 'zipcode': '17300', 'phonenumber': '859-924-2843'}, {'firstname': 'Ballentine', 'lastname': 'Hyo', 'phonenumber': '182-424-5300', 'color': 'blue', 'zipcode': '21351'}, {'firstname': 'Azzie', 'lastname': 'Zabriskie', 'zipcode': '94339', 'phonenumber': '110-574-1904', 'color': 'green'}, {'firstname': 'Jacques', 'lastname': 'Renault', 'color': 'yellow', 'zipcode': '00328', 'phonenumber': '157-348-8325'}, {'firstname': 'Magaly', 'lastname': 'Gregor', 'zipcode': '86286', 'phonenumber': '698-513-7428', 'color': 'blue'}, {'firstname': 'Schuetz', 'lastname': 'France', 'phonenumber': '732-729-4104', 'color': 'pink', 'zipcode': '09893'}, {'firstname': 'Darline', 'lastname': 'Barbeau', 'zipcode': '11027', 'phonenumber': '260-619-7450', 'color': 'blue'}, {'firstname': 'Darcie', 'lastname': 'Phoenix', 'zipcode': '55806', 'phonenumber': '854-910-7619', 'color': 'pink'}, {'firstname': 'Miller', 'lastname': 'Justin', 'phonenumber': '657-743-7189', 'color': 'blue', 'zipcode': '58979'}], 'errors': {0: 'invalid phone number or zip code', 1: 'invalid phone number or zip code', 5: 'invalid entry', 6: 'invalid phone number or zip code', 7: 'invalid phone number or zip code', 12: 'invalid phone number or zip code', 15: 'invalid phone number or zip code', 16: 'invalid phone number or zip code', 20: 'invalid phone number or zip code', 29: 'invalid phone number or zip code', 34: 'invalid phone number or zip code', 37: 'invalid entry', 38: 'invalid phone number or zip code', 41: 'invalid entry', 42: 'invalid phone number or zip code', 43: 'invalid phone number or zip code', 44: 'invalid entry', 45: 'invalid phone number or zip code', 47: 'invalid phone number or zip code', 48: 'invalid phone number or zip code', 49: 'invalid phone number or zip code', 50: 'invalid phone number or zip code', 56: 'invalid entry', 57: 'invalid phone number or zip code', 62: 'invalid phone number or zip code'}}\n",
      "Number of Entries = 38\n"
     ]
    }
   ],
   "source": [
    "def phone_norm(nineDigit):\n",
    "    return re.sub(\"(\\d)(?=(\\d{3})+(?!\\d))\", r\"\\1-\", \"%d\" % int(nineDigit[:-1])) + nineDigit[-1]\n",
    "\n",
    "Color = ['yellow', 'aqua marine', 'blue', 'gray', 'pink', 'red', 'green']\n",
    "\n",
    "f = open('data.in', 'r')\n",
    "entries = []\n",
    "errors  = {}\n",
    "lineIdx = 0\n",
    "for line in f:\n",
    "    entry = {}\n",
    "    items = [x.strip() for x in line.split(',')]\n",
    "    \n",
    "    # sanity check 1: completion of entries in the array\n",
    "    if len(items) > 5 or len(items) < 4:\n",
    "        errors[lineIdx] = 'invalid entry'\n",
    "        lineIdx += 1\n",
    "        continue\n",
    "    \n",
    "    # deal with names\n",
    "    names = items.pop(0)\n",
    "    if not names[0].isalpha():\n",
    "        errors[lineIdx] = 'invalid entry'\n",
    "        lineIdx += 1\n",
    "        continue\n",
    "        \n",
    "    elif ' ' not in names:\n",
    "        # first and last names are two items\n",
    "        entry['firstname'] = names\n",
    "        entry['lastname'] = items.pop(0)\n",
    "    else:\n",
    "        # first and last names are in one item\n",
    "        name_item = names.split()\n",
    "        if len(name_item) == 3:\n",
    "            entry['firstname'] = name_item[0] + ' ' + name_item[1]\n",
    "        else:\n",
    "            entry['firstname'], entry['lastname'] = names.split()\n",
    "    \n",
    "    for item in items:\n",
    "        \n",
    "        if item.isalpha():\n",
    "            # deal with color\n",
    "            entry['color'] = item\n",
    "            \n",
    "        else:\n",
    "            # deal with numbers\n",
    "            nums = re.sub('[^0-9]+', '', item)\n",
    "\n",
    "            if len(nums) == 10:\n",
    "                # deal with phone numbers\n",
    "                entry['phonenumber'] = phone_norm(nums)\n",
    "\n",
    "            elif len(nums) == 5:\n",
    "                # deal with zip codes\n",
    "                entry['zipcode'] = nums\n",
    "                \n",
    "            else:\n",
    "                errors[lineIdx] = 'invalid phone number or zip code'\n",
    "                continue\n",
    "        \n",
    "        \n",
    "    # sanity check 2: completion of the entries in the dictionary\n",
    "    if len(entry.keys()) == 5:\n",
    "        entries.append(entry)\n",
    "    lineIdx += 1\n",
    "\n",
    "out = {'entris': entries, 'errors': errors}\n",
    "print(out)  \n",
    "print ('Number of Entries = ' + str(len(entries)))"
   ]
  },
  {
   "cell_type": "code",
   "execution_count": 75,
   "metadata": {},
   "outputs": [
    {
     "data": {
      "text/plain": [
       "False"
      ]
     },
     "execution_count": 75,
     "metadata": {},
     "output_type": "execute_result"
    }
   ],
   "source": [
    "item.isalpha()"
   ]
  },
  {
   "cell_type": "code",
   "execution_count": 70,
   "metadata": {},
   "outputs": [
    {
     "name": "stdout",
     "output_type": "stream",
     "text": [
      "{\"entris\": [{\"phonenumber\": \"232-695-2394\"}, {\"zipcode\": \"97671\", \"phonenumber\": \"196-910-5548\"}, {\"zipcode\": \"97296\", \"phonenumber\": \"905-329-2054\"}, {\"zipcode\": \"38410\", \"phonenumber\": \"628-102-3672\"}, {\"phonenumber\": \"653-889-7235\", \"zipcode\": \"70703\"}, {\"zipcode\": \"97148\", \"phonenumber\": \"488-084-5794\"}, {\"zipcode\": \"70646\"}, {\"zipcode\": \"73149\", \"phonenumber\": \"454-934-6454\"}, {\"zipcode\": \"39358\", \"phonenumber\": \"489-634-9504\"}, {\"phonenumber\": \"463-118-2451\", \"zipcode\": \"07256\"}, {\"phonenumber\": \"54-813-6030\", \"zipcode\": \"47784\"}, {\"phonenumber\": \"87-853-4995\", \"zipcode\": \"44359\"}, {\"zipcode\": \"36410\", \"phonenumber\": \"839-014-8051\"}, {\"phonenumber\": \"843-661-4252\", \"zipcode\": \"90022\"}, {\"phonenumber\": \"920-018-5207\"}, {\"zipcode\": \"17058\"}, {\"phonenumber\": \"896-391-7308\", \"zipcode\": \"48680\"}, {\"zipcode\": \"82733\", \"phonenumber\": \"940-761-0886\"}, {\"zipcode\": \"93381\", \"phonenumber\": \"667-132-9000\"}, {\"phonenumber\": \"612-712-8471\", \"zipcode\": \"29198\"}, {\"zipcode\": \"15726\", \"phonenumber\": \"61-937-1243\"}, {\"zipcode\": \"21231\", \"phonenumber\": \"34-614-7966\"}, {\"phonenumber\": \"238-440-6451\", \"zipcode\": \"60460\"}, {\"phonenumber\": \"577-767-9995\", \"zipcode\": \"81360\"}, {\"phonenumber\": \"240-736-4719\", \"zipcode\": \"64320\"}, {\"zipcode\": \"32868\", \"phonenumber\": \"818-246-5061\"}, {\"zipcode\": \"11198\", \"phonenumber\": \"986-283-6066\"}, {\"zipcode\": \"08291\", \"phonenumber\": \"645-200-7094\"}, {\"zipcode\": \"82820\"}, {\"zipcode\": \"86258\", \"phonenumber\": \"305-987-8362\"}, {\"zipcode\": \"54450\", \"phonenumber\": \"808-633-1734\"}, {\"phonenumber\": \"967-196-4953\", \"zipcode\": \"05644\"}, {\"phonenumber\": \"854-345-7518\", \"zipcode\": \"57693\"}, {\"zipcode\": \"22172\", \"phonenumber\": \"180-739-1295\"}, {\"zipcode\": \"76589\", \"phonenumber\": \"751-665-5618\"}, {\"zipcode\": \"60128\", \"phonenumber\": \"423-334-3136\"}, {\"zipcode\": \"47185\"}, {\"zipcode\": \"48843\", \"phonenumber\": \"218-097-2208\"}, {\"phonenumber\": \"622-720-0550\", \"zipcode\": \"37820\"}, {\"zipcode\": \"29868\", \"phonenumber\": \"642-573-6473\"}, {\"zipcode\": \"81087\"}, {\"zipcode\": \"16398\"}, {\"phonenumber\": \"568-821-3874\", \"zipcode\": \"95836\"}, {}, {\"zipcode\": \"16018\"}, {\"phonenumber\": \"676-545-7599\"}, {\"zipcode\": \"92493\", \"phonenumber\": \"805-612-0845\"}, {\"phonenumber\": \"666-621-7485\", \"zipcode\": \"09517\"}, {\"zipcode\": \"17300\", \"phonenumber\": \"859-924-2843\"}, {\"phonenumber\": \"182-424-5300\", \"zipcode\": \"21351\"}, {\"zipcode\": \"94339\", \"phonenumber\": \"110-574-1904\"}, {\"zipcode\": \"00328\", \"phonenumber\": \"157-348-8325\"}, {\"zipcode\": \"82431\"}, {\"zipcode\": \"86286\", \"phonenumber\": \"698-513-7428\"}, {\"phonenumber\": \"732-729-4104\", \"zipcode\": \"09893\"}, {\"zipcode\": \"11027\", \"phonenumber\": \"260-619-7450\"}, {\"zipcode\": \"55806\", \"phonenumber\": \"854-910-7619\"}, {\"phonenumber\": \"41-740-9337\"}, {\"phonenumber\": \"657-743-7189\", \"zipcode\": \"58979\"}], \"errors\": {\"5\": \"invalid entry\", \"37\": \"invalid entry\", \"41\": \"invalid entry\", \"44\": \"invalid entry\", \"56\": \"invalid entry\"}}\n"
     ]
    }
   ],
   "source": [
    "jsonOut = json.dumps(out)\n",
    "print (jsonOut)"
   ]
  },
  {
   "cell_type": "code",
   "execution_count": 64,
   "metadata": {},
   "outputs": [
    {
     "name": "stdout",
     "output_type": "stream",
     "text": [
      "Noah, Moench, 123123121, 232 695 2394, yellow\n",
      "\n",
      "Ria Tillotson, aqua marine, 97671, 196 910 5548\n",
      "\n",
      "Annalee, Loftis, 97296, 905 329 2054, blue\n",
      "\n",
      "James Johnston, gray, 38410, 628 102 3672\n",
      "\n",
      "Liptak, Quinton, (653)-889-7235, yellow, 70703\n",
      "\n",
      "0.547777482345\n",
      "\n",
      "George Won, aqua marine, 97148, 488 084 5794\n",
      "\n",
      "McGrath, Luke, (555)-11111-11111111, gray, 70646\n",
      "\n",
      "Gladis, Tubb, 73149, 454 934 6454, pink\n",
      "\n",
      "Aura, Eilers, 39358, 489 634 9504, pink\n",
      "\n",
      "Clary, Blair, (463)-118-2451, red, 07256\n",
      "\n",
      "Hood, Robert, (054)-813-6030, pink, 47784\n",
      "\n",
      "Breland, Laurie, (087)-853-4995, aqua marine, 44359\n",
      "\n",
      "Englebert G. Humperdink, red, 36410, 839 014 8051\n",
      "\n",
      "Dhillon, Beata, (843)-661-4252, pink, 90022\n",
      "\n",
      "Natashia Gustavson, yellow, 123123121, 920 018 5207\n",
      "\n",
      "Pardini, Mack, (555)-11111-11111111, blue, 17058\n",
      "\n",
      "Leedy, Magan, (896)-391-7308, blue, 48680\n",
      "\n",
      "Shanika, Dodd, 82733, 940 761 0886, pink\n",
      "\n",
      "Hung, Moxley, 93381, 667 132 9000, pink\n",
      "\n",
      "Patnaude, Andy, (612)-712-8471, aqua marine, 29198\n",
      "\n",
      "Maurita Awong, blue, 15726, 061 937 1243\n",
      "\n",
      "Marita Haugland, red, 21231, 034 614 7966\n",
      "\n",
      "Swearingen, Kristeen, (238)-440-6451, blue, 60460\n",
      "\n",
      "Saltsman, Sabina, (577)-767-9995, blue, 81360\n",
      "\n",
      "Davis, Armand, (240)-736-4719, yellow, 64320\n",
      "\n",
      "Kerri, Chandler, 32868, 818 246 5061, red\n",
      "\n",
      "Shela Mona, pink, 11198, 986 283 6066\n",
      "\n",
      "Prince Gabler, gray, 08291, 645 200 7094\n",
      "\n",
      "Julian, Fanning, 82820, 555 11111 11111111, red\n",
      "\n",
      "Earlene Merryman, blue, 86258, 305 987 8362\n",
      "\n",
      "Theodora Whipkey, red, 54450, 808 633 1734\n",
      "\n",
      "Butterfield, Kelsi, (967)-196-4953, yellow, 05644\n",
      "\n",
      "Mccaster, Fatimah, (854)-345-7518, gray, 57693\n",
      "\n",
      "Mirian, Hankey, 22172, 180 739 1295, aqua marine\n",
      "\n",
      "Reinaldo, Vandermeer, 76589, 751 665 5618, gray\n",
      "\n",
      "Theo Parrish, green, 60128, 423 334 3136\n",
      "\n",
      "0.429926275625\n",
      "\n",
      "Nurse, Corliss, (555)-11111-11111111, red, 47185\n",
      "\n",
      "Mazie, Chavis, 48843, 218 097 2208, gray\n",
      "\n",
      "Demming, Kent, (622)-720-0550, red, 37820\n",
      "\n",
      "0.449778662506\n",
      "\n",
      "Len Pollack, aqua marine, 29868, 642 573 6473\n",
      "\n",
      "Dawn, Osvaldo, (555)-11111-11111111, pink, 81087\n",
      "\n",
      "0.513220696303\n",
      "\n",
      "Jay, Nathaniel, (555)-11111-11111111, red, 16398\n",
      "\n",
      "Ferro, Myrtice, (568)-821-3874, green, 95836\n",
      "\n",
      "Cordova, Ken, (555)-11111-11111111, blue, 123123121\n",
      "\n",
      "Manuel Canipe, blue, 16018, 555 11111 11111111\n",
      "\n",
      "Mcclusky, Isabell, (676)-545-7599, pink, 123123121\n",
      "\n",
      "Margarete Stickle, aqua marine, 92493, 805 612 0845\n",
      "\n",
      "Cadena, Clarinda, (666)-621-7485, red, 09517\n",
      "\n",
      "Bernie Mallette, pink, 17300, 859 924 2843\n",
      "\n",
      "Ballentine, Hyo, (182)-424-5300, blue, 21351\n",
      "\n",
      "Azzie, Zabriskie, 94339, 110 574 1904, green\n",
      "\n",
      "Jacques Renault, yellow, 00328, 157 348 8325\n",
      "\n",
      "0.261329218422\n",
      "\n",
      "Marin Munden, aqua marine, 82431, 555 11111 11111111\n",
      "\n",
      "Magaly, Gregor, 86286, 698 513 7428, blue\n",
      "\n",
      "Schuetz, France, (732)-729-4104, pink, 09893\n",
      "\n",
      "Darline, Barbeau, 11027, 260 619 7450, blue\n",
      "\n",
      "Darcie, Phoenix, 55806, 854 910 7619, pink\n",
      "\n",
      "Rachele, Maze, 123123121, 041 740 9337, aqua marine\n",
      "\n",
      "Miller, Justin, (657)-743-7189, blue, 58979\n",
      "\n",
      "64\n"
     ]
    }
   ],
   "source": [
    "f = open('data.in', 'r')\n",
    "length = 0\n",
    "for line in f:\n",
    "    print (line)\n",
    "    length += 1\n",
    "print (length)"
   ]
  }
 ],
 "metadata": {
  "kernelspec": {
   "display_name": "Python 3",
   "language": "python",
   "name": "python3"
  },
  "language_info": {
   "codemirror_mode": {
    "name": "ipython",
    "version": 3
   },
   "file_extension": ".py",
   "mimetype": "text/x-python",
   "name": "python",
   "nbconvert_exporter": "python",
   "pygments_lexer": "ipython3",
   "version": "3.6.4"
  }
 },
 "nbformat": 4,
 "nbformat_minor": 2
}
