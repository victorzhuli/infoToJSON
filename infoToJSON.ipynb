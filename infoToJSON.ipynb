{
 "cells": [
  {
   "cell_type": "code",
   "execution_count": 15,
   "metadata": {},
   "outputs": [],
   "source": [
    "import json, re"
   ]
  },
  {
   "cell_type": "code",
   "execution_count": null,
   "metadata": {
    "collapsed": true
   },
   "outputs": [],
   "source": [
    "Color = ['yellow', 'aqua marine', 'blue', 'gray', 'pink', 'red', 'green']"
   ]
  },
  {
   "cell_type": "code",
   "execution_count": 16,
   "metadata": {},
   "outputs": [],
   "source": [
    "def phone_format(phone_number):\n",
    "    clean_phone_number = re.sub('[^0-9]+', '', phone_number)\n",
    "    formatted_phone_number = re.sub(\"(\\d)(?=(\\d{3})+(?!\\d))\", r\"\\1-\", \"%d\" % int(clean_phone_number[:-1])) + clean_phone_number[-1]\n",
    "    return formatted_phone_number"
   ]
  },
  {
   "cell_type": "code",
   "execution_count": 26,
   "metadata": {},
   "outputs": [],
   "source": [
    "phone_number = '(622)-720-0550'\n",
    "clean_phone_number = re.sub('[^0-9]+', '', phone_number)\n",
    "formatted_phone_number = re.sub(\"(\\d)(?=(\\d{3})+(?!\\d))\", r\"\\1-\", \"%d\" % int(clean_phone_number[:-1])) + clean_phone_number[-1]"
   ]
  },
  {
   "cell_type": "code",
   "execution_count": 28,
   "metadata": {},
   "outputs": [
    {
     "data": {
      "text/plain": [
       "10"
      ]
     },
     "execution_count": 28,
     "metadata": {},
     "output_type": "execute_result"
    }
   ],
   "source": [
    "if len(clean_phone_number) ~= 9:\n",
    "    return"
   ]
  },
  {
   "cell_type": "code",
   "execution_count": 14,
   "metadata": {},
   "outputs": [
    {
     "data": {
      "text/plain": [
       "{1, 4, 5}"
      ]
     },
     "execution_count": 14,
     "metadata": {},
     "output_type": "execute_result"
    }
   ],
   "source": [
    "f = open('data.in', 'r')\n",
    "entries = {}\n",
    "errors  = {}\n",
    "lineIdx = 0\n",
    "for line in f:\n",
    "    x = line.split(\",\")\n",
    "    \n",
    "    # sanity check: completion of entries\n",
    "    if len(x) > 5 or len(x) < 4:\n",
    "        errors[lineInx] = 'invalid entry'\n",
    "        continue\n",
    "    \n",
    "    #\n",
    "    \n",
    "    \n",
    "    lineIdx += 1\n",
    "    \n",
    "    "
   ]
  }
 ],
 "metadata": {
  "kernelspec": {
   "display_name": "Python 3",
   "language": "python",
   "name": "python3"
  },
  "language_info": {
   "codemirror_mode": {
    "name": "ipython",
    "version": 3
   },
   "file_extension": ".py",
   "mimetype": "text/x-python",
   "name": "python",
   "nbconvert_exporter": "python",
   "pygments_lexer": "ipython3",
   "version": "3.6.4"
  }
 },
 "nbformat": 4,
 "nbformat_minor": 2
}
