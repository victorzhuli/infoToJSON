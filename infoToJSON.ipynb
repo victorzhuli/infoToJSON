{
 "cells": [
  {
   "cell_type": "code",
   "execution_count": 10,
   "metadata": {},
   "outputs": [
    {
     "name": "stdout",
     "output_type": "stream",
     "text": [
      "Noah, Moench, 123123121, 232 695 2394, yellow\n",
      "Ria Tillotson, aqua marine, 97671, 196 910 5548\n",
      "Annalee, Loftis, 97296, 905 329 2054, blue\n",
      "James Johnston, gray, 38410, 628 102 3672\n",
      "Liptak, Quinton, (653)-889-7235, yellow, 70703\n",
      "0.547777482345\n",
      "George Won, aqua marine, 97148, 488 084 5794\n",
      "McGrath, Luke, (555)-11111-11111111, gray, 70646\n",
      "Gladis, Tubb, 73149, 454 934 6454, pink\n",
      "Aura, Eilers, 39358, 489 634 9504, pink\n",
      "Clary, Blair, (463)-118-2451, red, 07256\n",
      "Hood, Robert, (054)-813-6030, pink, 47784\n",
      "Breland, Laurie, (087)-853-4995, aqua marine, 44359\n",
      "Englebert G. Humperdink, red, 36410, 839 014 8051\n",
      "Dhillon, Beata, (843)-661-4252, pink, 90022\n",
      "Natashia Gustavson, yellow, 123123121, 920 018 5207\n",
      "Pardini, Mack, (555)-11111-11111111, blue, 17058\n",
      "Leedy, Magan, (896)-391-7308, blue, 48680\n",
      "Shanika, Dodd, 82733, 940 761 0886, pink\n",
      "Hung, Moxley, 93381, 667 132 9000, pink\n",
      "Patnaude, Andy, (612)-712-8471, aqua marine, 29198\n",
      "Maurita Awong, blue, 15726, 061 937 1243\n",
      "Marita Haugland, red, 21231, 034 614 7966\n",
      "Swearingen, Kristeen, (238)-440-6451, blue, 60460\n",
      "Saltsman, Sabina, (577)-767-9995, blue, 81360\n",
      "Davis, Armand, (240)-736-4719, yellow, 64320\n",
      "Kerri, Chandler, 32868, 818 246 5061, red\n",
      "Shela Mona, pink, 11198, 986 283 6066\n",
      "Prince Gabler, gray, 08291, 645 200 7094\n",
      "Julian, Fanning, 82820, 555 11111 11111111, red\n",
      "Earlene Merryman, blue, 86258, 305 987 8362\n",
      "Theodora Whipkey, red, 54450, 808 633 1734\n",
      "Butterfield, Kelsi, (967)-196-4953, yellow, 05644\n",
      "Mccaster, Fatimah, (854)-345-7518, gray, 57693\n",
      "Mirian, Hankey, 22172, 180 739 1295, aqua marine\n",
      "Reinaldo, Vandermeer, 76589, 751 665 5618, gray\n",
      "Theo Parrish, green, 60128, 423 334 3136\n",
      "0.429926275625\n",
      "Nurse, Corliss, (555)-11111-11111111, red, 47185\n",
      "Mazie, Chavis, 48843, 218 097 2208, gray\n",
      "Demming, Kent, (622)-720-0550, red, 37820\n",
      "0.449778662506\n",
      "Len Pollack, aqua marine, 29868, 642 573 6473\n",
      "Dawn, Osvaldo, (555)-11111-11111111, pink, 81087\n",
      "0.513220696303\n",
      "Jay, Nathaniel, (555)-11111-11111111, red, 16398\n",
      "Ferro, Myrtice, (568)-821-3874, green, 95836\n",
      "Cordova, Ken, (555)-11111-11111111, blue, 123123121\n",
      "Manuel Canipe, blue, 16018, 555 11111 11111111\n",
      "Mcclusky, Isabell, (676)-545-7599, pink, 123123121\n",
      "Margarete Stickle, aqua marine, 92493, 805 612 0845\n",
      "Cadena, Clarinda, (666)-621-7485, red, 09517\n",
      "Bernie Mallette, pink, 17300, 859 924 2843\n",
      "Ballentine, Hyo, (182)-424-5300, blue, 21351\n",
      "Azzie, Zabriskie, 94339, 110 574 1904, green\n",
      "Jacques Renault, yellow, 00328, 157 348 8325\n",
      "0.261329218422\n",
      "Marin Munden, aqua marine, 82431, 555 11111 11111111\n",
      "Magaly, Gregor, 86286, 698 513 7428, blue\n",
      "Schuetz, France, (732)-729-4104, pink, 09893\n",
      "Darline, Barbeau, 11027, 260 619 7450, blue\n",
      "Darcie, Phoenix, 55806, 854 910 7619, pink\n",
      "Rachele, Maze, 123123121, 041 740 9337, aqua marine\n",
      "Miller, Justin, (657)-743-7189, blue, 58979\n"
     ]
    }
   ],
   "source": [
    "f = open('data.in', 'r')\n",
    "for line in f:\n",
    "    print(line, end='')"
   ]
  }
 ],
 "metadata": {
  "kernelspec": {
   "display_name": "Python 3",
   "language": "python",
   "name": "python3"
  },
  "language_info": {
   "codemirror_mode": {
    "name": "ipython",
    "version": 3
   },
   "file_extension": ".py",
   "mimetype": "text/x-python",
   "name": "python",
   "nbconvert_exporter": "python",
   "pygments_lexer": "ipython3",
   "version": "3.6.4"
  }
 },
 "nbformat": 4,
 "nbformat_minor": 2
}
